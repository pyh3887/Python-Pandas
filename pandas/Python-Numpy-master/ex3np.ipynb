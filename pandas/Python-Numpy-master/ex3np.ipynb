{
  "nbformat": 4,
  "nbformat_minor": 0,
  "metadata": {
    "colab": {
      "name": "ex3np.ipynb",
      "provenance": [],
      "collapsed_sections": [],
      "authorship_tag": "ABX9TyN9Dctp7Ucju37vfxeKtfid",
      "include_colab_link": true
    },
    "kernelspec": {
      "name": "python3",
      "display_name": "Python 3"
    }
  },
  "cells": [
    {
      "cell_type": "markdown",
      "metadata": {
        "id": "view-in-github",
        "colab_type": "text"
      },
      "source": [
        "<a href=\"https://colab.research.google.com/github/pyh3887/Python-Numpy/blob/master/ex3np.ipynb\" target=\"_parent\"><img src=\"https://colab.research.google.com/assets/colab-badge.svg\" alt=\"Open In Colab\"/></a>"
      ]
    },
    {
      "cell_type": "code",
      "metadata": {
        "id": "hTfRVFHjUR3O",
        "colab_type": "code",
        "colab": {
          "base_uri": "https://localhost:8080/",
          "height": 485
        },
        "outputId": "8f39facf-9ef8-4be0-ad22-acc6a38c9600"
      },
      "source": [
        "# 배열 연산\n",
        "\n",
        "import numpy as np\n",
        "\n",
        "x = np.array([[1,2],[3,4]])  # 2 * 2 \n",
        "y = np.arange(5,9).reshape(2,2)   # reshape 모양을 재정의 현재 1차원 → 2차원배열로 바꿈 \n",
        "y = y.astype(np.float32)\n",
        "print(x , type(x) , x.dtype) \n",
        "print(y, type(y) , y.dtype)\n",
        "print(x + y)  \n",
        "print(np.add(x,y)) # numpy 의 배열연산 (+)\n",
        "print(x - y)  \n",
        "print(np.subtract(x,y)) # numpy 의 배열 (-)\n",
        "\n",
        "print(x*y)\n",
        "print(np.multiply(x,y)) # numpy 의 배열 (*)\n",
        "print(x/y)\n",
        "print(np.divide(x,y)) # numpy 의 배열 (/)\n",
        "\n",
        "print()\n",
        "big_arr = np.random.rand(1000000) \n",
        "print(sum(big_arr)) \n",
        "print(np.sum(big_arr)) # numpy 의 연산이 더 빠르다\n",
        "\n",
        "print()\n",
        "a = [1,2,3,4]\n",
        "#print(a * 2) \n",
        "b = []\n",
        "for ai in a:\n",
        "  b.append(ai * 2)\n",
        "\n",
        "print(b)\n",
        "\n",
        "c = np.array(a)\n",
        "print(c * 2)\n",
        "\n"
      ],
      "execution_count": 16,
      "outputs": [
        {
          "output_type": "stream",
          "text": [
            "[[1 2]\n",
            " [3 4]] <class 'numpy.ndarray'> int64\n",
            "[[5. 6.]\n",
            " [7. 8.]] <class 'numpy.ndarray'> float32\n",
            "[[ 6.  8.]\n",
            " [10. 12.]]\n",
            "[[ 6.  8.]\n",
            " [10. 12.]]\n",
            "[[-4. -4.]\n",
            " [-4. -4.]]\n",
            "[[-4. -4.]\n",
            " [-4. -4.]]\n",
            "[[ 5. 12.]\n",
            " [21. 32.]]\n",
            "[[ 5. 12.]\n",
            " [21. 32.]]\n",
            "[[0.2        0.33333333]\n",
            " [0.42857143 0.5       ]]\n",
            "[[0.2        0.33333333]\n",
            " [0.42857143 0.5       ]]\n",
            "\n",
            "501104.7913447835\n",
            "501104.7913447627\n",
            "\n",
            "[2, 4, 6, 8]\n",
            "[2 4 6 8]\n"
          ],
          "name": "stdout"
        }
      ]
    },
    {
      "cell_type": "code",
      "metadata": {
        "id": "R0eu7l2AYC3m",
        "colab_type": "code",
        "colab": {
          "base_uri": "https://localhost:8080/",
          "height": 179
        },
        "outputId": "18d49cb9-8a26-42da-92a4-38da61542d39"
      },
      "source": [
        "# 벡터의 내적\n",
        "v = np.array([9,10])\n",
        "w = np.array([11,12])\n",
        "\n",
        "print(v.dot(w))   # 9*11 + 10*12\n",
        "print(np.dot(v,w)) # numpy 의 내적을 구하고 싶을때 dot function 을 이용 \n",
        "\n",
        "print(x) # 두개의 벡터가 있을시 , 행의개수와 열의개수가 반드시 일치해아한다. 그렇지 않으면 내적계산을 할수가 없다.\n",
        "\n",
        "print(x.dot(v))\n",
        "print(np.dot(x,v))\n",
        "print()\n",
        "print(np.dot(x,y))\n",
        "\n",
        "\n",
        "\n",
        "\n"
      ],
      "execution_count": 26,
      "outputs": [
        {
          "output_type": "stream",
          "text": [
            "219\n",
            "219\n",
            "[[1 2]\n",
            " [3 4]]\n",
            "[29 67]\n",
            "[29 67]\n",
            "\n",
            "[[19. 22.]\n",
            " [43. 50.]]\n"
          ],
          "name": "stdout"
        }
      ]
    },
    {
      "cell_type": "code",
      "metadata": {
        "id": "tdpnEyw1a75n",
        "colab_type": "code",
        "colab": {
          "base_uri": "https://localhost:8080/",
          "height": 251
        },
        "outputId": "54efaf65-1b92-4834-eb0a-e2ecf426c537"
      },
      "source": [
        "print(x)\n",
        "print(sum(x))\n",
        "print(np.sum(x, axis = 0)) # 열기준 연산 1+3 , 2+4\n",
        "print(np.sum(x, axis = 1)) # 행기준 연산 1+2 , 3+4\n",
        "print(np.cumsum(x)) #누적합\n",
        "print(np.cumprod(x)) #누적곱\n",
        "\n",
        "print()\n",
        "names = np.array(['tom','james','tom','oscar'])\n",
        "names2 = np.array(['tom','page','john','oscar'])\n",
        "\n",
        "print(np.unique(names)) # 중복되지 않는 \n",
        "print(set(names)) \n",
        "print(np.intersect1d(names,names2)) # 교집합 중복 x \n",
        "print(np.intersect1d(names,names2,assume_unique=True)) # 교집합 중복 o intersectid는 가능\n",
        "print(np.union1d(names,names2)) # 합집합 중복 허용x \n",
        "\n",
        "a = np.arange(12) \n",
        "b = a.reshape(3,4)\n",
        "\n"
      ],
      "execution_count": 35,
      "outputs": [
        {
          "output_type": "stream",
          "text": [
            "[[1 2]\n",
            " [3 4]]\n",
            "[4 6]\n",
            "[4 6]\n",
            "[3 7]\n",
            "[ 1  3  6 10]\n",
            "[ 1  2  6 24]\n",
            "\n",
            "['james' 'oscar' 'tom']\n",
            "{'oscar', 'tom', 'james'}\n",
            "['oscar' 'tom']\n",
            "['oscar' 'tom' 'tom']\n",
            "['james' 'john' 'oscar' 'page' 'tom']\n"
          ],
          "name": "stdout"
        }
      ]
    },
    {
      "cell_type": "code",
      "metadata": {
        "id": "sIgjuBBOdHPO",
        "colab_type": "code",
        "colab": {
          "base_uri": "https://localhost:8080/",
          "height": 341
        },
        "outputId": "9db41ef3-2d26-467e-f8a6-6c214924bd9d"
      },
      "source": [
        "# transpose(전치: 행열의 위치 변경)\n",
        "print(x)\n",
        "print(x.T)\n",
        "print(x.transpose())\n",
        "print(x.swapaxes(0,1))\n",
        "\n",
        "arr = np.arange(1,16).reshape(3,5) # 3행 5열 2차원배열\n",
        "print(arr, arr.shape)\n",
        "print()\n",
        "print(arr.T) # 행열의 위치를 바꿨음으로 내적을 구할수 있다.\n",
        "print(arr.flatten()) # 2차원 배열을 다시 1차원 배열로 바꿈\n"
      ],
      "execution_count": 39,
      "outputs": [
        {
          "output_type": "stream",
          "text": [
            "[[1 2]\n",
            " [3 4]]\n",
            "[[1 3]\n",
            " [2 4]]\n",
            "[[1 3]\n",
            " [2 4]]\n",
            "[[1 3]\n",
            " [2 4]]\n",
            "[[ 1  2  3  4  5]\n",
            " [ 6  7  8  9 10]\n",
            " [11 12 13 14 15]] (3, 5)\n",
            "\n",
            "[[ 1  6 11]\n",
            " [ 2  7 12]\n",
            " [ 3  8 13]\n",
            " [ 4  9 14]\n",
            " [ 5 10 15]]\n",
            "[ 1  2  3  4  5  6  7  8  9 10 11 12 13 14 15]\n"
          ],
          "name": "stdout"
        }
      ]
    },
    {
      "cell_type": "code",
      "metadata": {
        "id": "Uv68bt13cneU",
        "colab_type": "code",
        "colab": {}
      },
      "source": [
        ""
      ],
      "execution_count": 0,
      "outputs": []
    }
  ]
}