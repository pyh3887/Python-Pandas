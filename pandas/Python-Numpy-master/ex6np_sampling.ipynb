{
  "nbformat": 4,
  "nbformat_minor": 0,
  "metadata": {
    "colab": {
      "name": "ex6np_sampling.ipynb",
      "provenance": [],
      "authorship_tag": "ABX9TyNnOZH1rKURfw7Ad9idNsTj",
      "include_colab_link": true
    },
    "kernelspec": {
      "name": "python3",
      "display_name": "Python 3"
    }
  },
  "cells": [
    {
      "cell_type": "markdown",
      "metadata": {
        "id": "view-in-github",
        "colab_type": "text"
      },
      "source": [
        "<a href=\"https://colab.research.google.com/github/pyh3887/Python-Numpy/blob/master/ex6np_sampling.ipynb\" target=\"_parent\"><img src=\"https://colab.research.google.com/assets/colab-badge.svg\" alt=\"Open In Colab\"/></a>"
      ]
    },
    {
      "cell_type": "code",
      "metadata": {
        "id": "ZOZgPxWybuPm",
        "colab_type": "code",
        "colab": {
          "base_uri": "https://localhost:8080/",
          "height": 197
        },
        "outputId": "3ab53c60-df56-4a0e-fcef-05015945f300"
      },
      "source": [
        "import numpy as np\n",
        "\n",
        "x = np.array([1,2,3])\n",
        "y = np.array([4,5,6])\n",
        "\n",
        "conditionData = np.array([True,False,True])\n",
        "result = np.where(conditionData,x,y)\n",
        "print(result)\n",
        "\n",
        "print()\n",
        "aa = np.where(x >= 2) # x >= 2 인 값의 index\n",
        "print(aa) #(array([1,2])) index 가나옴\n",
        "print(x[aa])\n",
        "print(np.where(x >= 2, x, x*10)) # x >=2 인 값중 참일시 그냥출력 거짓일시 * 10 [10 2 3]\n",
        "print()\n",
        "bb = np.random.randn(4,4)\n",
        "print(bb)\n"
      ],
      "execution_count": 7,
      "outputs": [
        {
          "output_type": "stream",
          "text": [
            "[1 5 3]\n",
            "\n",
            "(array([1, 2]),)\n",
            "[2 3]\n",
            "[10  2  3]\n",
            "\n",
            "[[ 0.32358807 -1.39067607  1.55930318  0.59793092]\n",
            " [ 0.0440347   1.39329117 -1.09666497  0.6859948 ]\n",
            " [ 0.53540399 -0.24001258  0.6565268  -0.72293896]\n",
            " [-0.9016355   0.87463676  0.30263632  0.0282056 ]]\n"
          ],
          "name": "stdout"
        }
      ]
    },
    {
      "cell_type": "code",
      "metadata": {
        "id": "RChm_mxQdqD2",
        "colab_type": "code",
        "colab": {
          "base_uri": "https://localhost:8080/",
          "height": 413
        },
        "outputId": "1e33d35f-2f22-41ef-e487-acf0a159ecd7"
      },
      "source": [
        "#배열 결합\n",
        "print(x)\n",
        "print(y)\n",
        "\n",
        "kbs = np.concatenate([x,y]) # 1차원 배열의 결합\n",
        "print(kbs)\n",
        "x1 , x2 = np.split(kbs,2) # 1차원 배열의 분리\n",
        "print(x1)\n",
        "print(x2)\n",
        "print()\n",
        "a = np.arange(1,17).reshape(4,4)\n",
        "print(a)\n",
        "x1 , x2 =np.hsplit(a,2) #2번째 열서부터 분리 \n",
        "print(x1)\n",
        "print(x2)\n",
        "x1, x2 = np.vsplit(a,2) # 2번째 행서부터 분리\n",
        "print(x1)\n",
        "print(x2)"
      ],
      "execution_count": 13,
      "outputs": [
        {
          "output_type": "stream",
          "text": [
            "[1 2 3]\n",
            "[4 5 6]\n",
            "[1 2 3 4 5 6]\n",
            "[1 2 3]\n",
            "[4 5 6]\n",
            "\n",
            "[[ 1  2  3  4]\n",
            " [ 5  6  7  8]\n",
            " [ 9 10 11 12]\n",
            " [13 14 15 16]]\n",
            "[[ 1  2]\n",
            " [ 5  6]\n",
            " [ 9 10]\n",
            " [13 14]]\n",
            "[[ 3  4]\n",
            " [ 7  8]\n",
            " [11 12]\n",
            " [15 16]]\n",
            "[[1 2 3 4]\n",
            " [5 6 7 8]]\n",
            "[[ 9 10 11 12]\n",
            " [13 14 15 16]]\n"
          ],
          "name": "stdout"
        }
      ]
    },
    {
      "cell_type": "code",
      "metadata": {
        "id": "MI9qiiHFe9RQ",
        "colab_type": "code",
        "colab": {
          "base_uri": "https://localhost:8080/",
          "height": 197
        },
        "outputId": "61bb8bff-30ef-41ef-8e08-2d71f276ab7f"
      },
      "source": [
        "# 추출(복원,비복원) - sampling\n",
        "import numpy as np\n",
        "import random \n",
        "\n",
        "li = np.array([1,2,3,4,5,6,7])\n",
        "\n",
        "#복원 \n",
        "\n",
        "for _ in range(5):\n",
        "    print(li[random.randint(0,len(li)- 1)], end = ' ')\n",
        "\n",
        "print()\n",
        "\n",
        "#비복원\n",
        "print(random.sample(list(li),k=5))\n",
        "print(random.sample(range(1,46),k=6))\n",
        "\n",
        "print()\n",
        "print(list(np.random.choice(range(1,46),6)))  #복원\n",
        "print(list(np.random.choice(range(1,46),6,replace=True))) # 복원\n",
        "print(list(np.random.choice(range(1,46),6,replace=False))) #비복원\n",
        "\n",
        "print('가중치(확률)를 부여한 랜덤 추출')\n",
        "ar = 'air book cat d e f god'\n",
        "ar = ar.split(' ')\n",
        "print(ar)\n",
        "print(np.random.choice(ar,3, p=[0.1,0.1,0.1,0.1,0.1,0.1,0.4])) \n",
        "\n",
        "\n",
        "\n",
        "\n",
        "\n",
        "\n",
        "\n",
        "\n",
        "\n",
        "\n",
        "\n",
        "\n",
        "\n"
      ],
      "execution_count": 25,
      "outputs": [
        {
          "output_type": "stream",
          "text": [
            "2 1 7 5 6 \n",
            "[2, 6, 3, 4, 1]\n",
            "[10, 3, 34, 19, 32, 5]\n",
            "\n",
            "[10, 30, 41, 22, 36, 24]\n",
            "[24, 31, 3, 1, 42, 31]\n",
            "[25, 9, 11, 6, 30, 45]\n",
            "가중치(확률)를 부여한 랜덤 추출\n",
            "['air', 'book', 'cat', 'd', 'e', 'f', 'god']\n",
            "['e' 'cat' 'air']\n"
          ],
          "name": "stdout"
        }
      ]
    }
  ]
}