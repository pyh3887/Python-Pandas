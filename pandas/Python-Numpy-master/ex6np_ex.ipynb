{
  "nbformat": 4,
  "nbformat_minor": 0,
  "metadata": {
    "colab": {
      "name": "Untitled",
      "provenance": [],
      "collapsed_sections": [],
      "authorship_tag": "ABX9TyOzyJU6vxktSReSMo6t0fTw",
      "include_colab_link": true
    },
    "kernelspec": {
      "name": "python3",
      "display_name": "Python 3"
    }
  },
  "cells": [
    {
      "cell_type": "markdown",
      "metadata": {
        "id": "view-in-github",
        "colab_type": "text"
      },
      "source": [
        "<a href=\"https://colab.research.google.com/github/pyh3887/Python-Numpy/blob/master/Untitled.ipynb\" target=\"_parent\"><img src=\"https://colab.research.google.com/assets/colab-badge.svg\" alt=\"Open In Colab\"/></a>"
      ]
    },
    {
      "cell_type": "code",
      "metadata": {
        "id": "He3rk5-j2IBg",
        "colab_type": "code",
        "outputId": "95885f2a-9aeb-401c-c006-f6c6caaf749f",
        "colab": {
          "base_uri": "https://localhost:8080/",
          "height": 827
        }
      },
      "source": [
        "import numpy as np\n",
        "\n",
        "## 연습문제 \n",
        "\n",
        "aa = np.random.randn(5,4)\n",
        "\n",
        "#cc = np.random.randint(5, size = (5,4))\n",
        "#print(cc)\n",
        "\n",
        "print(np.sum(aa[1,])) # 1행의합\n",
        "print(np.max(aa[1,])) # 1행 최대값\n",
        "print(np.sum(aa[2,])) # 2행의합\n",
        "print(np.max(aa[2,])) # 2행 최댓값\n",
        "print(np.sum(aa[3,])) # 3행의합 \n",
        "print(np.max(aa[3,])) # 3행의 최댓값\n",
        "\n",
        "y = np.arange(1,37).reshape(6,6)\n",
        "\n",
        "print(y)\n",
        "print(y[1,:])\n",
        "print(y[:,2])\n",
        "print()\n",
        "#print(y[2,2]) 2,\n",
        "#print(y[2:5,2:5]) #\n",
        "print(y[2:5,2:5])\n",
        "print()\n",
        "\n",
        "ff = np.zeros((6,4))\n",
        "dd = np.random.randint(20,100, size = (6,))\n",
        "\n",
        "print(dd)\n",
        "print()\n",
        "for i in range(6):    \n",
        "  ff[i][0] = dd[i]\n",
        "  for j in range(1,4): \n",
        "    ff[i][j] = dd[i]+ j       \n",
        "\n",
        "for i in range(4):\n",
        "  ff[0][i] = 1000\n",
        "  ff[5][i] = 6000\n",
        "\n",
        "print(ff)   \n",
        "\n",
        "\n",
        "\n",
        "print()\n",
        "random = np.random.randn(4,5)\n",
        "print(random)\n",
        "print(np.average(random)) # 평균\n",
        "print(sum(random)) # 합\n",
        "print(np.std(random)) # 표준편차\n",
        "print(np.var(random)) # 분산\n",
        "print(np.max(random)) # 최대\n",
        "print(np.min(random)) # 최소\n",
        "print(np.percentile(random,25)) # 1사분위\n",
        "print(np.percentile(random,50)) # 2사분위\n",
        "print(np.percentile(random,75)) # 3사분위\n",
        "print(np.cumsum(random)) # 요소값누적\n",
        "\n",
        "\n",
        "\n",
        "\n",
        "\n",
        "\n",
        "\n",
        "\n",
        "\n",
        "\n"
      ],
      "execution_count": 0,
      "outputs": [
        {
          "output_type": "stream",
          "text": [
            "-2.747128717017231\n",
            "0.46560190556049114\n",
            "-1.3902509608920102\n",
            "0.2563657751179542\n",
            "-2.5077046835781496\n",
            "0.6900151630999838\n",
            "[[ 1  2  3  4  5  6]\n",
            " [ 7  8  9 10 11 12]\n",
            " [13 14 15 16 17 18]\n",
            " [19 20 21 22 23 24]\n",
            " [25 26 27 28 29 30]\n",
            " [31 32 33 34 35 36]]\n",
            "[ 7  8  9 10 11 12]\n",
            "[ 3  9 15 21 27 33]\n",
            "\n",
            "[[15 16 17]\n",
            " [21 22 23]\n",
            " [27 28 29]]\n",
            "\n",
            "[92 73 27 47 92 25]\n",
            "\n",
            "[[1000. 1000. 1000. 1000.]\n",
            " [  73.   74.   75.   76.]\n",
            " [  27.   28.   29.   30.]\n",
            " [  47.   48.   49.   50.]\n",
            " [  92.   93.   94.   95.]\n",
            " [6000. 6000. 6000. 6000.]]\n",
            "\n",
            "[[ 0.23007209 -0.64168014  1.23202193 -0.86465537 -0.41794472]\n",
            " [ 2.19408871 -0.60697835 -0.13256381 -0.39577723 -0.93440371]\n",
            " [-1.43116872  0.60126718  0.3787546   0.26263656  0.29146889]\n",
            " [-0.59973821 -1.31479924  0.65677127  1.45755973 -0.98242196]]\n",
            "-0.05087452418100642\n",
            "[ 0.39325387 -1.96219055  2.13498399  0.4597637  -2.04330149]\n",
            "0.9327217168476375\n",
            "0.8699698010792044\n",
            "2.194088710220742\n",
            "-1.4311687206991721\n",
            "-0.6974239481293858\n",
            "-0.26417051652499085\n",
            "0.4343827449060192\n",
            "[ 0.23007209 -0.41160805  0.82041388 -0.04424149 -0.46218621  1.73190251\n",
            "  1.12492416  0.99236035  0.59658313 -0.33782058 -1.7689893  -1.16772212\n",
            " -0.78896752 -0.52633096 -0.23486207 -0.83460028 -2.14939953 -1.49262826\n",
            " -0.03506852 -1.01749048]\n"
          ],
          "name": "stdout"
        }
      ]
    },
    {
      "cell_type": "code",
      "metadata": {
        "id": "HHuQDBif8NSw",
        "colab_type": "code",
        "colab": {}
      },
      "source": [
        ""
      ],
      "execution_count": 0,
      "outputs": []
    }
  ]
}
