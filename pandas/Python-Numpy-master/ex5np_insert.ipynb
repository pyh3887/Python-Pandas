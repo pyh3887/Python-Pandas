{
  "nbformat": 4,
  "nbformat_minor": 0,
  "metadata": {
    "colab": {
      "name": "ex5np_insert.ipynb",
      "provenance": [],
      "collapsed_sections": [],
      "authorship_tag": "ABX9TyPlUDbBWCln3FQePZ45aDTR",
      "include_colab_link": true
    },
    "kernelspec": {
      "name": "python3",
      "display_name": "Python 3"
    }
  },
  "cells": [
    {
      "cell_type": "markdown",
      "metadata": {
        "id": "view-in-github",
        "colab_type": "text"
      },
      "source": [
        "<a href=\"https://colab.research.google.com/github/pyh3887/Python-Numpy/blob/master/ex5np_insert.ipynb\" target=\"_parent\"><img src=\"https://colab.research.google.com/assets/colab-badge.svg\" alt=\"Open In Colab\"/></a>"
      ]
    },
    {
      "cell_type": "code",
      "metadata": {
        "id": "T0mS5Wp_ptPI",
        "colab_type": "code",
        "colab": {
          "base_uri": "https://localhost:8080/",
          "height": 413
        },
        "outputId": "93e2beb0-bfc6-40a1-feb9-2fc267987be0"
      },
      "source": [
        "# 배열에 행열 추가 , 삭제\n",
        "\n",
        "import numpy as np\n",
        "\n",
        "aa = np.eye(3) # 정방행렬 \n",
        "print(aa)\n",
        "bb = np.c_[aa, aa[2]] # 열추가\n",
        "print();print(bb)\n",
        "cc = np.r_[aa,[aa[2]]] # 행추가\n",
        "print();print(cc)\n",
        "\n",
        "a = np.array([1,2,3])\n",
        "print();print(a)\n",
        "\n",
        "print();print(np.c_[a]) # reshape 효과\n",
        "print();print(a.reshape(3,1))\n"
      ],
      "execution_count": 15,
      "outputs": [
        {
          "output_type": "stream",
          "text": [
            "[[1. 0. 0.]\n",
            " [0. 1. 0.]\n",
            " [0. 0. 1.]]\n",
            "\n",
            "[[1. 0. 0. 0.]\n",
            " [0. 1. 0. 0.]\n",
            " [0. 0. 1. 1.]]\n",
            "\n",
            "[[1. 0. 0.]\n",
            " [0. 1. 0.]\n",
            " [0. 0. 1.]\n",
            " [0. 0. 1.]]\n",
            "\n",
            "[1 2 3]\n",
            "\n",
            "[[1]\n",
            " [2]\n",
            " [3]]\n",
            "\n",
            "[[1]\n",
            " [2]\n",
            " [3]]\n"
          ],
          "name": "stdout"
        }
      ]
    },
    {
      "cell_type": "code",
      "metadata": {
        "id": "fBJuiwOPrHQ-",
        "colab_type": "code",
        "colab": {
          "base_uri": "https://localhost:8080/",
          "height": 125
        },
        "outputId": "4094a68c-a416-463b-a645-fca2bbb4216b"
      },
      "source": [
        "b = np.append(a, [4,5], axis = 0)\n",
        "print();print(b)\n",
        "c = np.insert(a,0,[6,7] , axis = 0) # default : axis = 0\n",
        "print();print(c)\n",
        "d = np.delete(a,[1])\n",
        "d = np.delete(a,[1,2])\n",
        "print();print(d)\n"
      ],
      "execution_count": 24,
      "outputs": [
        {
          "output_type": "stream",
          "text": [
            "\n",
            "[1 2 3 4 5]\n",
            "\n",
            "[6 7 1 2 3]\n",
            "\n",
            "[1]\n"
          ],
          "name": "stdout"
        }
      ]
    },
    {
      "cell_type": "code",
      "metadata": {
        "id": "s90xyzOmr_tv",
        "colab_type": "code",
        "colab": {
          "base_uri": "https://localhost:8080/",
          "height": 269
        },
        "outputId": "4a22e8f9-9534-495e-b4b8-7b5fbfc45a5f"
      },
      "source": [
        "aa = np.arange(1,10).reshape(3,3)\n",
        "print(aa)\n",
        "print();print(np.insert(aa,1,99)) # 1번째에 99 추가 차원이 떨어짐 \n",
        "print();print(np.insert(aa,1,99,axis=0)) # 행기준 1행에 모두 99를 줌\n",
        "print();print(np.insert(aa,1,99,axis=1)) # 행기준 1열에 모두 99를 줌"
      ],
      "execution_count": 31,
      "outputs": [
        {
          "output_type": "stream",
          "text": [
            "[[1 2 3]\n",
            " [4 5 6]\n",
            " [7 8 9]]\n",
            "\n",
            "[ 1 99  2  3  4  5  6  7  8  9]\n",
            "\n",
            "[[ 1  2  3]\n",
            " [99 99 99]\n",
            " [ 4  5  6]\n",
            " [ 7  8  9]]\n",
            "\n",
            "[[ 1 99  2  3]\n",
            " [ 4 99  5  6]\n",
            " [ 7 99  8  9]]\n"
          ],
          "name": "stdout"
        }
      ]
    },
    {
      "cell_type": "code",
      "metadata": {
        "id": "7YS9E_ZysvAE",
        "colab_type": "code",
        "colab": {
          "base_uri": "https://localhost:8080/",
          "height": 215
        },
        "outputId": "0c4cddc1-eb24-445d-eefd-0a6c765acbf8"
      },
      "source": [
        "print(aa)\n",
        "print(np.delete(aa,1)) # 0행 1열값을 지운뒤 차원을 떨어트림\n",
        "print();print(np.delete(aa,1,axis=0))\n",
        "print();print(np.delete(aa,1,axis=1))\n",
        "\n",
        "\n"
      ],
      "execution_count": 35,
      "outputs": [
        {
          "output_type": "stream",
          "text": [
            "[[1 2 3]\n",
            " [4 5 6]\n",
            " [7 8 9]]\n",
            "[1 3 4 5 6 7 8 9]\n",
            "\n",
            "[[1 2 3]\n",
            " [7 8 9]]\n",
            "\n",
            "[[1 3]\n",
            " [4 6]\n",
            " [7 9]]\n"
          ],
          "name": "stdout"
        }
      ]
    },
    {
      "cell_type": "code",
      "metadata": {
        "id": "DpsEz82FrB1n",
        "colab_type": "code",
        "colab": {}
      },
      "source": [
        ""
      ],
      "execution_count": 0,
      "outputs": []
    }
  ]
}