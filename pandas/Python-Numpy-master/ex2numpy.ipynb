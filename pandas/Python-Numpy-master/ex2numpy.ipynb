{
  "nbformat": 4,
  "nbformat_minor": 0,
  "metadata": {
    "colab": {
      "name": "ex2numpy.ipynb",
      "provenance": [],
      "collapsed_sections": [],
      "authorship_tag": "ABX9TyON161u/n8f1ZaCm+B6l1Xa",
      "include_colab_link": true
    },
    "kernelspec": {
      "name": "python3",
      "display_name": "Python 3"
    }
  },
  "cells": [
    {
      "cell_type": "markdown",
      "metadata": {
        "id": "view-in-github",
        "colab_type": "text"
      },
      "source": [
        "<a href=\"https://colab.research.google.com/github/pyh3887/Python-Numpy/blob/master/ex2numpy.ipynb\" target=\"_parent\"><img src=\"https://colab.research.google.com/assets/colab-badge.svg\" alt=\"Open In Colab\"/></a>"
      ]
    },
    {
      "cell_type": "code",
      "metadata": {
        "id": "tv67rhZco77c",
        "colab_type": "code",
        "colab": {
          "base_uri": "https://localhost:8080/",
          "height": 53
        },
        "outputId": "ac78369d-350b-43d6-8dc4-632c5a2210fe"
      },
      "source": [
        "# numpy : ndarray\n",
        "import numpy as np\n",
        "\n",
        "#ss = ['tom','james','oscar']\n",
        "ss = [1,2,3.5]\n",
        "print(ss, '', type(ss))\n",
        "\n",
        "ss2 = np.array(ss)\n",
        "print(ss2,'',type(ss2))\n",
        "\n",
        "# numpy 배열은 성격이 일치 : 성격이 다르면 상위 타입을 따른다 예 > int에 float 이 껴있다면 float 으로 \n",
        "\n"
      ],
      "execution_count": 3,
      "outputs": [
        {
          "output_type": "stream",
          "text": [
            "[1, 2, 3.5]  <class 'list'>\n",
            "[1.  2.  3.5]  <class 'numpy.ndarray'>\n"
          ],
          "name": "stdout"
        }
      ]
    },
    {
      "cell_type": "code",
      "metadata": {
        "id": "RdlkIxk5qd7l",
        "colab_type": "code",
        "colab": {
          "base_uri": "https://localhost:8080/",
          "height": 145
        },
        "outputId": "7cb41c08-a957-478a-a836-f4685a77e09e"
      },
      "source": [
        "# 메모리 비교 \n",
        "li = list(range(1,11))\n",
        "print(li)\n",
        "print(id(li[0]), id(li[1]))  # 주소값이 다르다 서로다른 객체를 생성함\n",
        "print(li * 10) #요소별 곱이 아닌 배열을 10 번돌림 \n",
        "\n",
        "for i in li:\n",
        "  print(i * 10 , end = ' ')\n",
        "\n",
        "print()\n",
        "numpy_arr = np.array(li)\n",
        "print(id(numpy_arr[0]), id(numpy_arr[1])) # 주소 값이 같다 하나의 기억장소안에 데이터를 쌓아둠 \n",
        "print(numpy_arr * 10) # 요소별 곱을 사용한다.  \n",
        "\n"
      ],
      "execution_count": 8,
      "outputs": [
        {
          "output_type": "stream",
          "text": [
            "[1, 2, 3, 4, 5, 6, 7, 8, 9, 10]\n",
            "10914496 10914528\n",
            "[1, 2, 3, 4, 5, 6, 7, 8, 9, 10, 1, 2, 3, 4, 5, 6, 7, 8, 9, 10, 1, 2, 3, 4, 5, 6, 7, 8, 9, 10, 1, 2, 3, 4, 5, 6, 7, 8, 9, 10, 1, 2, 3, 4, 5, 6, 7, 8, 9, 10, 1, 2, 3, 4, 5, 6, 7, 8, 9, 10, 1, 2, 3, 4, 5, 6, 7, 8, 9, 10, 1, 2, 3, 4, 5, 6, 7, 8, 9, 10, 1, 2, 3, 4, 5, 6, 7, 8, 9, 10, 1, 2, 3, 4, 5, 6, 7, 8, 9, 10]\n",
            "10 20 30 40 50 60 70 80 90 100 \n",
            "140673450873288 140673450873288\n",
            "[ 10  20  30  40  50  60  70  80  90 100]\n"
          ],
          "name": "stdout"
        }
      ]
    },
    {
      "cell_type": "code",
      "metadata": {
        "id": "Ca5kjQ9Cr4nq",
        "colab_type": "code",
        "colab": {
          "base_uri": "https://localhost:8080/",
          "height": 107
        },
        "outputId": "6fdd6258-72d5-4b74-e439-e6ea1efd197c"
      },
      "source": [
        "a = np.array([[1,2,3],[4,5,6]],dtype='float32')\n",
        "print(type(a),' ',a.dtype,' ',a.shape,' ', a.ndim,' ',a.size)\n",
        "print(a[0,0], a[0,2])\n",
        "a[0,0] = 100\n",
        "print(a[0,0], a[0,2])\n",
        "print(a[[0]]) # 0 행 1열의 자료  2차원\n",
        "print(a[0]) # 1차원"
      ],
      "execution_count": 23,
      "outputs": [
        {
          "output_type": "stream",
          "text": [
            "<class 'numpy.ndarray'>   float32   (2, 3)   2   6\n",
            "1.0 3.0\n",
            "100.0 3.0\n",
            "[[100.   2.   3.]]\n",
            "[100.   2.   3.]\n"
          ],
          "name": "stdout"
        }
      ]
    },
    {
      "cell_type": "code",
      "metadata": {
        "id": "mZgHm9c10M6Y",
        "colab_type": "code",
        "colab": {
          "base_uri": "https://localhost:8080/",
          "height": 683
        },
        "outputId": "f3f14408-12c7-42a2-eb23-7b95589643a4"
      },
      "source": [
        "c = np.zeros((2,2)) # 2 by 2 배열을 0 으로 채움\n",
        "print(c)\n",
        "d = np.ones((2,2))\n",
        "print(d)\n",
        "d = np.full((2,2),7)\n",
        "print(d)\n",
        "e = np.eye(3) # 단위행렬\n",
        "print(e)\n",
        "\n",
        "print()\n",
        "np.random.seed(0) # 난수의 시작위치를 고정\n",
        "print(np.random.rand(5)) # 균등분포를 따르는 난수 발생\n",
        "print(np.random.randn(5)) # 정규분포를 따르는 난수 발생 음수발생\n",
        "print(np.random.normal(0,1,(2,3))) # 평균은 0 표준편차가 1 인 난수\n",
        "print(np.random.randint(10, size = 6))  # 10 개중 6 개 정수값\n",
        "print(np.random.randint(10, size = (3,4))) \n",
        "print(np.random.randint(10, size = (3,4,5)))\n",
        "print()\n",
        "print(list(range(10)))\n",
        "print(np.arange(10))\n",
        "print()\n",
        "f = {i:np.random.randn() for i in range(5)}\n",
        "print(f)\n"
      ],
      "execution_count": 43,
      "outputs": [
        {
          "output_type": "stream",
          "text": [
            "[[0. 0.]\n",
            " [0. 0.]]\n",
            "[[1. 1.]\n",
            " [1. 1.]]\n",
            "[[7 7]\n",
            " [7 7]]\n",
            "[[1. 0. 0.]\n",
            " [0. 1. 0.]\n",
            " [0. 0. 1.]]\n",
            "\n",
            "[0.5488135  0.71518937 0.60276338 0.54488318 0.4236548 ]\n",
            "[-0.84272405  1.96992445  1.26611853 -0.50587654  2.54520078]\n",
            "[[ 1.08081191  0.48431215  0.57914048]\n",
            " [-0.18158257  1.41020463 -0.37447169]]\n",
            "[0 1 9 9 0 4]\n",
            "[[7 3 2 7]\n",
            " [2 0 0 4]\n",
            " [5 5 6 8]]\n",
            "[[[4 1 4 9 8]\n",
            "  [1 1 7 9 9]\n",
            "  [3 6 7 2 0]\n",
            "  [3 5 9 4 4]]\n",
            "\n",
            " [[6 4 4 3 4]\n",
            "  [4 8 4 3 7]\n",
            "  [5 5 0 1 5]\n",
            "  [9 3 0 5 0]]\n",
            "\n",
            " [[1 2 4 2 0]\n",
            "  [3 2 0 7 5]\n",
            "  [9 0 2 7 2]\n",
            "  [9 2 3 3 2]]]\n",
            "\n",
            "[0, 1, 2, 3, 4, 5, 6, 7, 8, 9]\n",
            "[0 1 2 3 4 5 6 7 8 9]\n",
            "\n",
            "{0: 0.27519831557632024, 1: 1.076121037518773, 2: 0.1921408343855315, 3: 0.8529259575013671, 4: 0.018357182609979702}\n"
          ],
          "name": "stdout"
        }
      ]
    },
    {
      "cell_type": "code",
      "metadata": {
        "id": "5LRJ8SPv3h6x",
        "colab_type": "code",
        "colab": {
          "base_uri": "https://localhost:8080/",
          "height": 233
        },
        "outputId": "157ff304-a943-4174-eb98-547c70987063"
      },
      "source": [
        "# 슬라이싱 -------------------\n",
        "a = np.array([1,2,3,4,5])\n",
        "print(a, type(a))\n",
        "print(a[1:5:2]) #1부터 5 까지 2만큼\n",
        "print(a[-5:-2]) # -5 부터 -2 까지\n",
        "print(a[1:], ' ' ,a[:3])\n",
        "print()\n",
        "a = np.array([[1,2,3,4],[5,6,7,8],[9,10,11,12]])\n",
        "print(a, a.shape)\n",
        "#print(a[:])\n",
        "print(a[0],a[0][0], a[0, 0],a[[0]])\n",
        "print()\n",
        "print(a[1:,0:2]) # 1행부터 출력하되 ,\n",
        "\n"
      ],
      "execution_count": 60,
      "outputs": [
        {
          "output_type": "stream",
          "text": [
            "[1 2 3 4 5] <class 'numpy.ndarray'>\n",
            "[2 4]\n",
            "[1 2 3]\n",
            "[2 3 4 5]   [1 2 3]\n",
            "\n",
            "[[ 1  2  3  4]\n",
            " [ 5  6  7  8]\n",
            " [ 9 10 11 12]] (3, 4)\n",
            "[1 2 3 4] 1 1 [[1 2 3 4]]\n",
            "\n",
            "[[ 5  6]\n",
            " [ 9 10]]\n"
          ],
          "name": "stdout"
        }
      ]
    },
    {
      "cell_type": "code",
      "metadata": {
        "id": "gyfPDUe36OMI",
        "colab_type": "code",
        "colab": {
          "base_uri": "https://localhost:8080/",
          "height": 233
        },
        "outputId": "511f2433-6b60-4c66-c7d2-d3ae356bfd09"
      },
      "source": [
        "b = a \n",
        "b[0][0] = 100\n",
        "print(a)\n",
        "print(b)\n",
        "c = np.copy(a) # 원본과 별개의 배열 복사본 \n",
        "c[0][0] = 200 # 원본은 바뀌지않음 , 새로운 객체가 생김\n",
        "print(a)\n",
        "print(c)"
      ],
      "execution_count": 67,
      "outputs": [
        {
          "output_type": "stream",
          "text": [
            "[[100   2   3   4]\n",
            " [  5   6   7   8]\n",
            " [  9  10  11  12]]\n",
            "[[100   2   3   4]\n",
            " [  5   6   7   8]\n",
            " [  9  10  11  12]]\n",
            "[[100   2   3   4]\n",
            " [  5   6   7   8]\n",
            " [  9  10  11  12]]\n",
            "[[200   2   3   4]\n",
            " [  5   6   7   8]\n",
            " [  9  10  11  12]]\n"
          ],
          "name": "stdout"
        }
      ]
    },
    {
      "cell_type": "code",
      "metadata": {
        "id": "SZpHRPgM64ix",
        "colab_type": "code",
        "colab": {
          "base_uri": "https://localhost:8080/",
          "height": 179
        },
        "outputId": "3c9303a7-f173-407e-ed87-2213a6f6f537"
      },
      "source": [
        "d = a[:2, 1:3 ]\n",
        "print(a[0,1])\n",
        "print(d)\n",
        "print(d[0,0])\n",
        "d[0,0] = 300\n",
        "print(d)\n",
        "print(a) # d는 a의 서브 배열, d가 바뀔시 a도 바뀜 \n"
      ],
      "execution_count": 73,
      "outputs": [
        {
          "output_type": "stream",
          "text": [
            "300\n",
            "[[300   3]\n",
            " [  6   7]]\n",
            "300\n",
            "[[300   3]\n",
            " [  6   7]]\n",
            "[[100 300   3   4]\n",
            " [  5   6   7   8]\n",
            " [  9  10  11  12]]\n"
          ],
          "name": "stdout"
        }
      ]
    },
    {
      "cell_type": "code",
      "metadata": {
        "id": "9WHQpG8n8POB",
        "colab_type": "code",
        "colab": {
          "base_uri": "https://localhost:8080/",
          "height": 53
        },
        "outputId": "460158fe-cb05-4164-f2b8-8f92de385799"
      },
      "source": [
        "a = np.array([[1,2,3],[4,5,6],[7,8,9]])\n",
        "r1 = a[1, :] # a[1,] 1차원\n",
        "print(r1,r1.shape)\n",
        "r2 = a[1:2, :] # 2차원\n",
        "print(r2,r2.shape)"
      ],
      "execution_count": 79,
      "outputs": [
        {
          "output_type": "stream",
          "text": [
            "[4 5 6] (3,)\n",
            "[[4 5 6]] (1, 3)\n"
          ],
          "name": "stdout"
        }
      ]
    },
    {
      "cell_type": "code",
      "metadata": {
        "id": "_kO0hQVQ9P2x",
        "colab_type": "code",
        "colab": {
          "base_uri": "https://localhost:8080/",
          "height": 89
        },
        "outputId": "9b02d9a8-d242-4f6f-96d6-8958c4e2c59b"
      },
      "source": [
        "# 배열의 열에 접근하기\n",
        "c1 = a[:,1] #2행만 슬라이싱\n",
        "print(c1,c1.shape)\n",
        "c2 = a[:, 1:2]  #슬라이싱을 어떻게 하느냐에 따라 다름 \n",
        "print(c2, c2.shape) "
      ],
      "execution_count": 84,
      "outputs": [
        {
          "output_type": "stream",
          "text": [
            "[2 5 8] (3,)\n",
            "[[2]\n",
            " [5]\n",
            " [8]] (3, 1)\n"
          ],
          "name": "stdout"
        }
      ]
    },
    {
      "cell_type": "code",
      "metadata": {
        "id": "d9hiptaP95Ln",
        "colab_type": "code",
        "colab": {
          "base_uri": "https://localhost:8080/",
          "height": 305
        },
        "outputId": "72b5e982-fe3f-40e1-bde8-4d77c9d4bd26"
      },
      "source": [
        "a = np.array([[1,2,3],[4,5,6],[7,8,9],[10,11,12]])\n",
        "print(a)\n",
        "b = np.array([0,2,0,1])\n",
        "print(b, b.shape)\n",
        "\n",
        "print(np.arange(4))\n",
        "print(a)\n",
        "print()\n",
        "print(a[np.arange(4),b]) # 기존 배열의 값을 첨자로 사용 가능 \n",
        "a[np.arange(4),b] += 10\n",
        "print(a)"
      ],
      "execution_count": 99,
      "outputs": [
        {
          "output_type": "stream",
          "text": [
            "[[ 1  2  3]\n",
            " [ 4  5  6]\n",
            " [ 7  8  9]\n",
            " [10 11 12]]\n",
            "[0 2 0 1] (4,)\n",
            "[0 1 2 3]\n",
            "[[ 1  2  3]\n",
            " [ 4  5  6]\n",
            " [ 7  8  9]\n",
            " [10 11 12]]\n",
            "\n",
            "[ 1  6  7 11]\n",
            "[[11  2  3]\n",
            " [ 4  5 16]\n",
            " [17  8  9]\n",
            " [10 21 12]]\n"
          ],
          "name": "stdout"
        }
      ]
    },
    {
      "cell_type": "code",
      "metadata": {
        "id": "ql1RE91m_J3q",
        "colab_type": "code",
        "colab": {
          "base_uri": "https://localhost:8080/",
          "height": 125
        },
        "outputId": "66ab507f-bebe-4a9b-b011-1c0ceede5b04"
      },
      "source": [
        "bool_idx = (a>10)\n",
        "print(bool_idx)\n",
        "print(a[bool_idx])\n",
        "print(a[a>10])"
      ],
      "execution_count": 101,
      "outputs": [
        {
          "output_type": "stream",
          "text": [
            "[[ True False False]\n",
            " [False False  True]\n",
            " [ True False False]\n",
            " [False  True  True]]\n",
            "[11 16 17 21 12]\n",
            "[11 16 17 21 12]\n"
          ],
          "name": "stdout"
        }
      ]
    },
    {
      "cell_type": "code",
      "metadata": {
        "id": "CpLWjfjE9XL4",
        "colab_type": "code",
        "colab": {}
      },
      "source": [
        ""
      ],
      "execution_count": 0,
      "outputs": []
    }
  ]
}