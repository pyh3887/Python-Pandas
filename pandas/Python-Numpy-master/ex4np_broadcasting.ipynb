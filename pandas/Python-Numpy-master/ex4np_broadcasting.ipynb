{
  "nbformat": 4,
  "nbformat_minor": 0,
  "metadata": {
    "colab": {
      "name": "ex4np broadcasting.ipynb",
      "provenance": [],
      "authorship_tag": "ABX9TyPvgx8pF8KHhYxf2lPZBXkf",
      "include_colab_link": true
    },
    "kernelspec": {
      "name": "python3",
      "display_name": "Python 3"
    }
  },
  "cells": [
    {
      "cell_type": "markdown",
      "metadata": {
        "id": "view-in-github",
        "colab_type": "text"
      },
      "source": [
        "<a href=\"https://colab.research.google.com/github/pyh3887/Python-Numpy/blob/master/ex4np_broadcasting.ipynb\" target=\"_parent\"><img src=\"https://colab.research.google.com/assets/colab-badge.svg\" alt=\"Open In Colab\"/></a>"
      ]
    },
    {
      "cell_type": "code",
      "metadata": {
        "id": "bpVYPAv-kSUp",
        "colab_type": "code",
        "colab": {
          "base_uri": "https://localhost:8080/",
          "height": 485
        },
        "outputId": "8f054053-a136-4f1a-dbf8-080142fbc1b9"
      },
      "source": [
        "import numpy as np\n",
        "\n",
        "x = np.arange(1,10).reshape(3,3) # 3x3 배열\n",
        "y = np.array([1,0,1]) \n",
        "z = np.empty_like(x)\n",
        "print(x)\n",
        "print(y)\n",
        "print(z)\n",
        "\n",
        "# x + y\n",
        "# 방법1 for \n",
        "for i in range(3):\n",
        "  z[i] = x[i] + y\n",
        "  print(z)\n",
        "\n",
        "print()\n",
        "# 방법2 : tile()\n",
        "\n",
        "kbs = np.tile(y, (3,1)) # 구조를 맞춰 3x3 배열과 연산이 가능해진다\n",
        "print(kbs)\n",
        "\n",
        "z = x + kbs\n",
        "\n",
        "# 방법3 : numpy 의 broadcasting\n",
        "mbc = x + y \n",
        "print(mbc) \n",
        "print(mbc + 100) #알아서 broadcasting 됌 \n",
        "\n",
        "\n"
      ],
      "execution_count": 8,
      "outputs": [
        {
          "output_type": "stream",
          "text": [
            "[[1 2 3]\n",
            " [4 5 6]\n",
            " [7 8 9]]\n",
            "[1 0 1]\n",
            "[[1 2 3]\n",
            " [4 5 6]\n",
            " [7 8 9]]\n",
            "[[2 2 4]\n",
            " [4 5 6]\n",
            " [7 8 9]]\n",
            "[[2 2 4]\n",
            " [5 5 7]\n",
            " [7 8 9]]\n",
            "[[ 2  2  4]\n",
            " [ 5  5  7]\n",
            " [ 8  8 10]]\n",
            "\n",
            "[[1 0 1]\n",
            " [1 0 1]\n",
            " [1 0 1]]\n",
            "[[ 2  2  4]\n",
            " [ 5  5  7]\n",
            " [ 8  8 10]]\n",
            "[[102 102 104]\n",
            " [105 105 107]\n",
            " [108 108 110]]\n"
          ],
          "name": "stdout"
        }
      ]
    },
    {
      "cell_type": "code",
      "metadata": {
        "id": "mD27K0OWl9PX",
        "colab_type": "code",
        "colab": {
          "base_uri": "https://localhost:8080/",
          "height": 269
        },
        "outputId": "59b439a2-80b9-417a-e091-30e349ce5492"
      },
      "source": [
        "#broadcast 예\n",
        "\n",
        "v = np.array([1,2,3])\n",
        "w = np.array([4,5])\n",
        "\n",
        "print(np.reshape(v,(3,1)) * w) # reshape 으로 v를 3x1 을 만들어준뒤 내적을함\n",
        "print(np.reshape(w,(2,1)) * v) # reshape 으로 w를 2x1 을 만들어준뒤 내적을함\n",
        "\n",
        "print()\n",
        "x = np.array([[1,2,3] , [4,5,6]])\n",
        "print(x + v)\n",
        "print()\n",
        "print(x.T + w)  # x의 행열을 바꾸어 w와 연산 이때 w는 broadcasting\n",
        "print((x.T +w).T) #연산후 다시 행열 전환\n"
      ],
      "execution_count": 20,
      "outputs": [
        {
          "output_type": "stream",
          "text": [
            "[[ 4  5]\n",
            " [ 8 10]\n",
            " [12 15]]\n",
            "[[ 4  8 12]\n",
            " [ 5 10 15]]\n",
            "\n",
            "[[2 4 6]\n",
            " [5 7 9]]\n",
            "\n",
            "[[ 5  9]\n",
            " [ 6 10]\n",
            " [ 7 11]]\n",
            "[[ 5  6  7]\n",
            " [ 9 10 11]]\n"
          ],
          "name": "stdout"
        }
      ]
    },
    {
      "cell_type": "code",
      "metadata": {
        "id": "9ejA3_F_nuqf",
        "colab_type": "code",
        "colab": {
          "base_uri": "https://localhost:8080/",
          "height": 161
        },
        "outputId": "b54a3e0a-278d-46c2-c987-a215b1147076"
      },
      "source": [
        "# NUMPY FILE i / o\n",
        "print(x)\n",
        "np.save('test',x) # test.npy\n",
        "np.savez('test',x) # test.npz\n",
        "np.savetxt('test',x) # test\n",
        "!|s-a|\n",
        "imsi = np.load('test.npy')\n",
        "print(imsi)\n",
        "imsi2 = np.loadtxt('test')\n",
        "print(imsi)"
      ],
      "execution_count": 22,
      "outputs": [
        {
          "output_type": "stream",
          "text": [
            "[[1 2 3]\n",
            " [4 5 6]]\n",
            "/bin/bash: -c: line 0: syntax error near unexpected token `|'\n",
            "/bin/bash: -c: line 0: `|s-a|'\n",
            "[[1 2 3]\n",
            " [4 5 6]]\n",
            "[[1 2 3]\n",
            " [4 5 6]]\n"
          ],
          "name": "stdout"
        }
      ]
    }
  ]
}